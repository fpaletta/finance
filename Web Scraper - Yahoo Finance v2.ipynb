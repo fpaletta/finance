{
 "cells": [
  {
   "cell_type": "code",
   "execution_count": 1,
   "metadata": {},
   "outputs": [],
   "source": [
    "import yfinance as yf\n",
    "import re\n",
    "import json\n",
    "import csv\n",
    "import io\n",
    "import pandas as pd\n",
    "from io import StringIO\n",
    "from bs4 import BeautifulSoup\n",
    "import requests\n",
    "from datetime import datetime, timedelta\n",
    "import matplotlib.pyplot as plt\n",
    "import numpy as np\n",
    "import xlsxwriter\n",
    "from google_trans_new import google_translator"
   ]
  },
  {
   "cell_type": "code",
   "execution_count": 2,
   "metadata": {},
   "outputs": [],
   "source": [
    "url_stats = 'https://finance.yahoo.com/quote/{}/key-statistics?p={}'\n",
    "url_profile ='https://finance.yahoo.com/quote/{}/profile?p={}'\n",
    "url_financials ='https://finance.yahoo.com/quote/{}/financials?p={}'"
   ]
  },
  {
   "cell_type": "code",
   "execution_count": 3,
   "metadata": {},
   "outputs": [],
   "source": [
    "stock = 'taee11.SA'"
   ]
  },
  {
   "cell_type": "markdown",
   "metadata": {},
   "source": [
    "# Financial (IS, CF and BS)"
   ]
  },
  {
   "cell_type": "code",
   "execution_count": 4,
   "metadata": {},
   "outputs": [
    {
     "data": {
      "text/plain": [
       "dict_keys(['dispatcher', 'options', 'plugins'])"
      ]
     },
     "execution_count": 4,
     "metadata": {},
     "output_type": "execute_result"
    }
   ],
   "source": [
    "response = requests.get(url_financials.format(stock, stock))\n",
    "soup = BeautifulSoup(response.text,'html.parser')\n",
    "pattern = re.compile(r'\\s--\\sData\\s--\\s')\n",
    "script_data = soup.find('script', text=pattern).contents[0]\n",
    "start = script_data.find(\"context\")-2\n",
    "json_data = json.loads(script_data[start:-12])\n",
    "json_data['context'].keys()"
   ]
  },
  {
   "cell_type": "code",
   "execution_count": 5,
   "metadata": {
    "scrolled": false
   },
   "outputs": [
    {
     "data": {
      "text/plain": [
       "dict_keys(['financialsTemplate', 'cashflowStatementHistory', 'balanceSheetHistoryQuarterly', 'earnings', 'price', 'incomeStatementHistoryQuarterly', 'incomeStatementHistory', 'balanceSheetHistory', 'cashflowStatementHistoryQuarterly', 'quoteType', 'summaryDetail', 'symbol', 'pageViews'])"
      ]
     },
     "execution_count": 5,
     "metadata": {},
     "output_type": "execute_result"
    }
   ],
   "source": [
    "json_data['context']['dispatcher']['stores']['QuoteSummaryStore'].keys()"
   ]
  },
  {
   "cell_type": "code",
   "execution_count": 6,
   "metadata": {},
   "outputs": [],
   "source": [
    "annual_is = json_data['context']['dispatcher']['stores']['QuoteSummaryStore']['incomeStatementHistory']['incomeStatementHistory']\n",
    "quarterly_is = json_data['context']['dispatcher']['stores']['QuoteSummaryStore']['incomeStatementHistoryQuarterly']['incomeStatementHistory']\n",
    "\n",
    "annual_cf = json_data['context']['dispatcher']['stores']['QuoteSummaryStore']['cashflowStatementHistory']['cashflowStatements']\n",
    "quarterly_cf = json_data['context']['dispatcher']['stores']['QuoteSummaryStore']['cashflowStatementHistoryQuarterly']['cashflowStatements']\n",
    "\n",
    "annual_bs = json_data['context']['dispatcher']['stores']['QuoteSummaryStore']['balanceSheetHistory']['balanceSheetStatements']\n",
    "quarterly_bs = json_data['context']['dispatcher']['stores']['QuoteSummaryStore']['balanceSheetHistoryQuarterly']['balanceSheetStatements']"
   ]
  },
  {
   "cell_type": "code",
   "execution_count": 7,
   "metadata": {},
   "outputs": [
    {
     "data": {
      "text/plain": [
       "{'raw': 757682000, 'fmt': '757.68M', 'longFmt': '757,682,000'}"
      ]
     },
     "execution_count": 7,
     "metadata": {},
     "output_type": "execute_result"
    }
   ],
   "source": [
    "annual_is[0]['operatingIncome']"
   ]
  },
  {
   "cell_type": "code",
   "execution_count": 8,
   "metadata": {},
   "outputs": [],
   "source": [
    "annual_is_stmts = []\n",
    "quarterly_is_stmts = []\n",
    "\n",
    "# consolidate annual\n",
    "for s in annual_is:\n",
    "    statement = {}\n",
    "    for key, val in s.items():\n",
    "        try:\n",
    "            statement[key] = val['raw']\n",
    "        except TypeError:\n",
    "            continue\n",
    "        except KeyError:\n",
    "            continue\n",
    "    annual_is_stmts.append(statement)\n",
    "    \n",
    "# consolidate Quarterly\n",
    "for s in quarterly_is:\n",
    "    statement = {}\n",
    "    for key, val in s.items():\n",
    "        try:\n",
    "            statement[key] = val['raw']\n",
    "        except TypeError:\n",
    "            continue\n",
    "        except KeyError:\n",
    "            continue\n",
    "    quarterly_is_stmts.append(statement)\n",
    "    \n",
    "    \n",
    "annual_cf_stmts = []\n",
    "quarterly_cf_stmts = []\n",
    "\n",
    "# consolidate annual Cash Flow\n",
    "for s in annual_cf:\n",
    "    statement = {}\n",
    "    for key, val in s.items():\n",
    "        try:\n",
    "            statement[key] = val['raw']\n",
    "        except TypeError:\n",
    "            continue\n",
    "        except KeyError:\n",
    "            continue\n",
    "    annual_cf_stmts.append(statement)\n",
    "    \n",
    "# consolidate Quarterly Cash Flow\n",
    "for s in quarterly_cf:\n",
    "    statement = {}\n",
    "    for key, val in s.items():\n",
    "        try:\n",
    "            statement[key] = val['raw']\n",
    "        except TypeError:\n",
    "            continue\n",
    "        except KeyError:\n",
    "            continue\n",
    "    quarterly_cf_stmts.append(statement)\n",
    "    \n",
    "    \n",
    "annual_bs_stmts = []\n",
    "quarterly_bs_stmts = []\n",
    "\n",
    "# consolidate annual Balance Sheet\n",
    "for s in annual_bs:\n",
    "    statement = {}\n",
    "    for key, val in s.items():\n",
    "        try:\n",
    "            statement[key] = val['raw']\n",
    "        except TypeError:\n",
    "            continue\n",
    "        except KeyError:\n",
    "            continue\n",
    "    annual_bs_stmts.append(statement)\n",
    "    \n",
    "# consolidate Quarterly Balance Sheet\n",
    "for s in quarterly_bs:\n",
    "    statement = {}\n",
    "    for key, val in s.items():\n",
    "        try:\n",
    "            statement[key] = val['raw']\n",
    "        except TypeError:\n",
    "            continue\n",
    "        except KeyError:\n",
    "            continue\n",
    "    quarterly_bs_stmts.append(statement)"
   ]
  },
  {
   "cell_type": "code",
   "execution_count": 9,
   "metadata": {
    "scrolled": false
   },
   "outputs": [
    {
     "data": {
      "text/plain": [
       "{'incomeBeforeTax': 703664000,\n",
       " 'netIncome': 648285000,\n",
       " 'sellingGeneralAdministrative': 118382000,\n",
       " 'grossProfit': 879990000,\n",
       " 'ebit': 757682000,\n",
       " 'endDate': 1514678400,\n",
       " 'operatingIncome': 757682000,\n",
       " 'interestExpense': -233003000,\n",
       " 'incomeTaxExpense': 55379000,\n",
       " 'totalRevenue': 1077059000,\n",
       " 'totalOperatingExpenses': 319377000,\n",
       " 'costOfRevenue': 197069000,\n",
       " 'totalOtherIncomeExpenseNet': -54018000,\n",
       " 'netIncomeFromContinuingOps': 648285000,\n",
       " 'netIncomeApplicableToCommonShares': 648285000}"
      ]
     },
     "execution_count": 9,
     "metadata": {},
     "output_type": "execute_result"
    }
   ],
   "source": [
    "annual_is_stmts[0]"
   ]
  },
  {
   "cell_type": "markdown",
   "metadata": {},
   "source": [
    "# Profile Data"
   ]
  },
  {
   "cell_type": "code",
   "execution_count": 10,
   "metadata": {},
   "outputs": [],
   "source": [
    "response = requests.get(url_profile.format(stock, stock))\n",
    "soup = BeautifulSoup(response.text,'html.parser')\n",
    "pattern = re.compile(r'\\s--\\sData\\s--\\s')\n",
    "script_data = soup.find('script', text=pattern).contents[0]\n",
    "start = script_data.find(\"context\")-2\n",
    "json_data = json.loads(script_data[start:-12])"
   ]
  },
  {
   "cell_type": "code",
   "execution_count": 11,
   "metadata": {},
   "outputs": [
    {
     "data": {
      "text/plain": [
       "dict_keys(['financialsTemplate', 'price', 'secFilings', 'quoteType', 'calendarEvents', 'summaryDetail', 'symbol', 'assetProfile', 'pageViews'])"
      ]
     },
     "execution_count": 11,
     "metadata": {},
     "output_type": "execute_result"
    }
   ],
   "source": [
    "json_data['context']['dispatcher']['stores']['QuoteSummaryStore'].keys()"
   ]
  },
  {
   "cell_type": "code",
   "execution_count": 12,
   "metadata": {},
   "outputs": [
    {
     "data": {
      "text/plain": [
       "dict_keys(['zip', 'sector', 'fullTimeEmployees', 'compensationRisk', 'auditRisk', 'longBusinessSummary', 'city', 'phone', 'state', 'shareHolderRightsRisk', 'governanceEpochDate', 'boardRisk', 'country', 'companyOfficers', 'website', 'maxAge', 'overallRisk', 'address1', 'industry', 'address2'])"
      ]
     },
     "execution_count": 12,
     "metadata": {},
     "output_type": "execute_result"
    }
   ],
   "source": [
    "json_data['context']['dispatcher']['stores']['QuoteSummaryStore']['assetProfile'].keys()"
   ]
  },
  {
   "cell_type": "code",
   "execution_count": 13,
   "metadata": {},
   "outputs": [
    {
     "data": {
      "text/plain": [
       "[{'maxAge': 1,\n",
       "  'name': 'Andre Augusto Telles Moreira',\n",
       "  'title': 'CEO & Member of Exec. Board',\n",
       "  'exercisedValue': {'raw': 0, 'fmt': None, 'longFmt': '0'},\n",
       "  'unexercisedValue': {'raw': 0, 'fmt': None, 'longFmt': '0'}},\n",
       " {'maxAge': 1,\n",
       "  'name': 'Mr. Erik  da Costa Breyer',\n",
       "  'age': 49,\n",
       "  'title': 'CFO, Investor Relations Officer & Member of Exec. Board',\n",
       "  'yearBorn': 1971,\n",
       "  'exercisedValue': {'raw': 0, 'fmt': None, 'longFmt': '0'},\n",
       "  'unexercisedValue': {'raw': 0, 'fmt': None, 'longFmt': '0'}},\n",
       " {'maxAge': 1,\n",
       "  'name': 'Mr. Marco Antonio Resende Faria',\n",
       "  'title': 'Technical Director & Member of Exec. Board',\n",
       "  'exercisedValue': {'raw': 0, 'fmt': None, 'longFmt': '0'},\n",
       "  'unexercisedValue': {'raw': 0, 'fmt': None, 'longFmt': '0'}},\n",
       " {'maxAge': 1,\n",
       "  'name': 'Mr. Fabio Antunes Fernandes',\n",
       "  'title': 'Bus. & Ownership Interest Management Officer and Member of Exec. Board',\n",
       "  'exercisedValue': {'raw': 0, 'fmt': None, 'longFmt': '0'},\n",
       "  'unexercisedValue': {'raw': 0, 'fmt': None, 'longFmt': '0'}},\n",
       " {'maxAge': 1,\n",
       "  'name': 'Mr. Luis Alessandro Alves',\n",
       "  'title': 'Deployment Director & Member of Exec. Board',\n",
       "  'exercisedValue': {'raw': 0, 'fmt': None, 'longFmt': '0'},\n",
       "  'unexercisedValue': {'raw': 0, 'fmt': None, 'longFmt': '0'}}]"
      ]
     },
     "execution_count": 13,
     "metadata": {},
     "output_type": "execute_result"
    }
   ],
   "source": [
    "json_data['context']['dispatcher']['stores']['QuoteSummaryStore']['assetProfile']['companyOfficers']"
   ]
  },
  {
   "cell_type": "code",
   "execution_count": 14,
   "metadata": {
    "scrolled": false
   },
   "outputs": [
    {
     "data": {
      "text/plain": [
       "'Transmissora AlianÃ§a de Energia ElÃ©trica S.A. implements, operates, and maintains electric power transmission assets in Brazil. It operates 13,576 kilometers (km) of transmission lines, which include 11,062 km of transmission lines in operation and 2,514 km of lines under construction; and 97 substations with voltage ranging from 230 to 525kV. The company was founded in 2000 is headquartered in Rio de Janeiro, Brazil.'"
      ]
     },
     "execution_count": 14,
     "metadata": {},
     "output_type": "execute_result"
    }
   ],
   "source": [
    "json_data['context']['dispatcher']['stores']['QuoteSummaryStore']['assetProfile']['longBusinessSummary']"
   ]
  },
  {
   "cell_type": "code",
   "execution_count": 15,
   "metadata": {
    "scrolled": true
   },
   "outputs": [
    {
     "ename": "KeyError",
     "evalue": "'filings'",
     "output_type": "error",
     "traceback": [
      "\u001b[1;31m---------------------------------------------------------------------------\u001b[0m",
      "\u001b[1;31mKeyError\u001b[0m                                  Traceback (most recent call last)",
      "\u001b[1;32m<ipython-input-15-2b4e8a699e79>\u001b[0m in \u001b[0;36m<module>\u001b[1;34m\u001b[0m\n\u001b[1;32m----> 1\u001b[1;33m \u001b[0mjson_data\u001b[0m\u001b[1;33m[\u001b[0m\u001b[1;34m'context'\u001b[0m\u001b[1;33m]\u001b[0m\u001b[1;33m[\u001b[0m\u001b[1;34m'dispatcher'\u001b[0m\u001b[1;33m]\u001b[0m\u001b[1;33m[\u001b[0m\u001b[1;34m'stores'\u001b[0m\u001b[1;33m]\u001b[0m\u001b[1;33m[\u001b[0m\u001b[1;34m'QuoteSummaryStore'\u001b[0m\u001b[1;33m]\u001b[0m\u001b[1;33m[\u001b[0m\u001b[1;34m'secFilings'\u001b[0m\u001b[1;33m]\u001b[0m\u001b[1;33m[\u001b[0m\u001b[1;34m'filings'\u001b[0m\u001b[1;33m]\u001b[0m\u001b[1;33m\u001b[0m\u001b[1;33m\u001b[0m\u001b[0m\n\u001b[0m",
      "\u001b[1;31mKeyError\u001b[0m: 'filings'"
     ]
    }
   ],
   "source": [
    "json_data['context']['dispatcher']['stores']['QuoteSummaryStore']['secFilings']['filings']"
   ]
  },
  {
   "cell_type": "code",
   "execution_count": 16,
   "metadata": {
    "scrolled": true
   },
   "outputs": [
    {
     "data": {
      "text/plain": [
       "{'previousClose': {'raw': 39.47, 'fmt': '39.47'},\n",
       " 'regularMarketOpen': {'raw': 39.28, 'fmt': '39.28'},\n",
       " 'twoHundredDayAverage': {'raw': 35.94848, 'fmt': '35.95'},\n",
       " 'trailingAnnualDividendYield': {'raw': 0.13460857, 'fmt': '13.46%'},\n",
       " 'payoutRatio': {},\n",
       " 'volume24Hr': {},\n",
       " 'regularMarketDayHigh': {'raw': 39.54, 'fmt': '39.54'},\n",
       " 'navPrice': {},\n",
       " 'averageDailyVolume10Day': {'raw': 1467200,\n",
       "  'fmt': '1.47M',\n",
       "  'longFmt': '1,467,200'},\n",
       " 'totalAssets': {},\n",
       " 'regularMarketPreviousClose': {'raw': 39.47, 'fmt': '39.47'},\n",
       " 'fiftyDayAverage': {'raw': 39.749714, 'fmt': '39.75'},\n",
       " 'trailingAnnualDividendRate': {'raw': 5.313, 'fmt': '5.31'},\n",
       " 'open': {'raw': 39.28, 'fmt': '39.28'},\n",
       " 'toCurrency': None,\n",
       " 'averageVolume10days': {'raw': 1467200,\n",
       "  'fmt': '1.47M',\n",
       "  'longFmt': '1,467,200'},\n",
       " 'expireDate': {},\n",
       " 'yield': {},\n",
       " 'algorithm': None,\n",
       " 'dividendRate': {'raw': 4.5, 'fmt': '4.50'},\n",
       " 'exDividendDate': {'raw': 1621382400, 'fmt': '2021-05-19'},\n",
       " 'beta': {'raw': 0.459434, 'fmt': '0.46'},\n",
       " 'circulatingSupply': {},\n",
       " 'startDate': {},\n",
       " 'regularMarketDayLow': {'raw': 39.03, 'fmt': '39.03'},\n",
       " 'priceHint': {'raw': 2, 'fmt': '2', 'longFmt': '2'},\n",
       " 'currency': 'BRL',\n",
       " 'trailingPE': {'raw': 5.5498796, 'fmt': '5.55'},\n",
       " 'regularMarketVolume': {'raw': 509000, 'fmt': '509k', 'longFmt': '509,000'},\n",
       " 'lastMarket': None,\n",
       " 'maxSupply': {},\n",
       " 'openInterest': {},\n",
       " 'marketCap': {'raw': 6477085184, 'fmt': '6.48B', 'longFmt': '6,477,085,184'},\n",
       " 'volumeAllCurrencies': {},\n",
       " 'strikePrice': {},\n",
       " 'averageVolume': {'raw': 2044814, 'fmt': '2.04M', 'longFmt': '2,044,814'},\n",
       " 'priceToSalesTrailing12Months': {'raw': 1.7129087, 'fmt': '1.71'},\n",
       " 'dayLow': {'raw': 39.03, 'fmt': '39.03'},\n",
       " 'ask': {'raw': 39.11, 'fmt': '39.11'},\n",
       " 'ytdReturn': {},\n",
       " 'askSize': {'raw': 0, 'fmt': None, 'longFmt': '0'},\n",
       " 'volume': {'raw': 509000, 'fmt': '509k', 'longFmt': '509,000'},\n",
       " 'fiftyTwoWeekHigh': {'raw': 42.68, 'fmt': '42.68'},\n",
       " 'forwardPE': {'raw': 17.858448, 'fmt': '17.86'},\n",
       " 'maxAge': 1,\n",
       " 'fromCurrency': None,\n",
       " 'fiveYearAvgDividendYield': {'raw': 8.66, 'fmt': '8.66'},\n",
       " 'fiftyTwoWeekLow': {'raw': 27.7, 'fmt': '27.70'},\n",
       " 'bid': {'raw': 39.08, 'fmt': '39.08'},\n",
       " 'tradeable': False,\n",
       " 'dividendYield': {'raw': 0.1121, 'fmt': '11.21%'},\n",
       " 'bidSize': {'raw': 0, 'fmt': None, 'longFmt': '0'},\n",
       " 'dayHigh': {'raw': 39.54, 'fmt': '39.54'}}"
      ]
     },
     "execution_count": 16,
     "metadata": {},
     "output_type": "execute_result"
    }
   ],
   "source": [
    "json_data['context']['dispatcher']['stores']['QuoteSummaryStore']['summaryDetail']"
   ]
  },
  {
   "cell_type": "markdown",
   "metadata": {},
   "source": [
    "# Statistics"
   ]
  },
  {
   "cell_type": "code",
   "execution_count": 17,
   "metadata": {},
   "outputs": [],
   "source": [
    "response = requests.get(url_stats.format(stock, stock))\n",
    "soup = BeautifulSoup(response.text,'html.parser')\n",
    "pattern = re.compile(r'\\s--\\sData\\s--\\s')\n",
    "script_data = soup.find('script', text=pattern).contents[0]\n",
    "start = script_data.find(\"context\")-2\n",
    "json_data = json.loads(script_data[start:-12])"
   ]
  },
  {
   "cell_type": "code",
   "execution_count": 18,
   "metadata": {
    "scrolled": false
   },
   "outputs": [
    {
     "data": {
      "text/plain": [
       "{'annualHoldingsTurnover': {},\n",
       " 'enterpriseToRevenue': {'raw': 5.039, 'fmt': '5.04'},\n",
       " 'beta3Year': {},\n",
       " 'profitMargins': {'raw': 0.64198, 'fmt': '64.20%'},\n",
       " 'enterpriseToEbitda': {'raw': 7.31, 'fmt': '7.31'},\n",
       " '52WeekChange': {'raw': 0.3829713, 'fmt': '38.30%'},\n",
       " 'morningStarRiskRating': {},\n",
       " 'forwardEps': {'raw': 2.19, 'fmt': '2.19'},\n",
       " 'revenueQuarterlyGrowth': {},\n",
       " 'sharesOutstanding': {'raw': 0, 'fmt': None, 'longFmt': '0'},\n",
       " 'fundInceptionDate': {},\n",
       " 'annualReportExpenseRatio': {},\n",
       " 'totalAssets': {},\n",
       " 'bookValue': {'raw': 19.153, 'fmt': '19.15'},\n",
       " 'sharesShort': {},\n",
       " 'sharesPercentSharesOut': {},\n",
       " 'fundFamily': None,\n",
       " 'lastFiscalYearEnd': {'raw': 1609372800, 'fmt': '2020-12-31'},\n",
       " 'heldPercentInstitutions': {'raw': 0.25951, 'fmt': '25.95%'},\n",
       " 'netIncomeToCommon': {'raw': 2427537920,\n",
       "  'fmt': '2.43B',\n",
       "  'longFmt': '2,427,537,920'},\n",
       " 'trailingEps': {'raw': 7.047, 'fmt': '7.05'},\n",
       " 'lastDividendValue': {'raw': 1.35436, 'fmt': '1.35'},\n",
       " 'SandP52WeekChange': {'raw': 0.34921706, 'fmt': '34.92%'},\n",
       " 'priceToBook': {'raw': 2.0409336, 'fmt': '2.04'},\n",
       " 'heldPercentInsiders': {'raw': 0, 'fmt': '0.00%'},\n",
       " 'nextFiscalYearEnd': {'raw': 1672444800, 'fmt': '2022-12-31'},\n",
       " 'yield': {},\n",
       " 'mostRecentQuarter': {'raw': 1617148800, 'fmt': '2021-03-31'},\n",
       " 'shortRatio': {},\n",
       " 'sharesShortPreviousMonthDate': {},\n",
       " 'floatShares': {'raw': 344498907, 'fmt': '344.5M', 'longFmt': '344,498,907'},\n",
       " 'beta': {'raw': 0.459434, 'fmt': '0.46'},\n",
       " 'enterpriseValue': {'raw': 19052335104,\n",
       "  'fmt': '19.05B',\n",
       "  'longFmt': '19,052,335,104'},\n",
       " 'priceHint': {'raw': 2, 'fmt': '2', 'longFmt': '2'},\n",
       " 'threeYearAverageReturn': {},\n",
       " 'lastSplitDate': {},\n",
       " 'lastSplitFactor': None,\n",
       " 'legalType': None,\n",
       " 'lastDividendDate': {'raw': 1621382400, 'fmt': '2021-05-19'},\n",
       " 'morningStarOverallRating': {},\n",
       " 'earningsQuarterlyGrowth': {'raw': 0.421, 'fmt': '42.10%'},\n",
       " 'priceToSalesTrailing12Months': {},\n",
       " 'dateShortInterest': {},\n",
       " 'pegRatio': {},\n",
       " 'ytdReturn': {},\n",
       " 'forwardPE': {},\n",
       " 'maxAge': 1,\n",
       " 'lastCapGain': {},\n",
       " 'shortPercentOfFloat': {},\n",
       " 'sharesShortPriorMonth': {},\n",
       " 'impliedSharesOutstanding': {'raw': 1033500032,\n",
       "  'fmt': '1.03B',\n",
       "  'longFmt': '1,033,500,032'},\n",
       " 'category': None,\n",
       " 'fiveYearAverageReturn': {}}"
      ]
     },
     "execution_count": 18,
     "metadata": {},
     "output_type": "execute_result"
    }
   ],
   "source": [
    "json_data['context']['dispatcher']['stores']['QuoteSummaryStore']['defaultKeyStatistics']"
   ]
  },
  {
   "cell_type": "code",
   "execution_count": 19,
   "metadata": {},
   "outputs": [
    {
     "data": {
      "text/plain": [
       "dict_keys(['defaultKeyStatistics', 'financialsTemplate', 'price', 'financialData', 'quoteType', 'calendarEvents', 'summaryDetail', 'symbol', 'pageViews'])"
      ]
     },
     "execution_count": 19,
     "metadata": {},
     "output_type": "execute_result"
    }
   ],
   "source": [
    "json_data['context']['dispatcher']['stores']['QuoteSummaryStore'].keys()"
   ]
  },
  {
   "cell_type": "code",
   "execution_count": 20,
   "metadata": {
    "scrolled": true
   },
   "outputs": [
    {
     "data": {
      "text/plain": [
       "{'ebitdaMargins': {'raw': 0.6893, 'fmt': '68.93%'},\n",
       " 'profitMargins': {'raw': 0.64198, 'fmt': '64.20%'},\n",
       " 'grossMargins': {'raw': 0.73085, 'fmt': '73.08%'},\n",
       " 'operatingCashflow': {'raw': 597715008,\n",
       "  'fmt': '597.72M',\n",
       "  'longFmt': '597,715,008'},\n",
       " 'revenueGrowth': {'raw': 0.32, 'fmt': '32.00%'},\n",
       " 'operatingMargins': {'raw': 0.68683, 'fmt': '68.68%'},\n",
       " 'ebitda': {'raw': 2606467072, 'fmt': '2.61B', 'longFmt': '2,606,467,072'},\n",
       " 'targetLowPrice': {'raw': 22.24, 'fmt': '22.24'},\n",
       " 'recommendationKey': 'none',\n",
       " 'grossProfits': {'raw': 879990000,\n",
       "  'fmt': '879.99M',\n",
       "  'longFmt': '879,990,000'},\n",
       " 'freeCashflow': {'raw': 1463209088,\n",
       "  'fmt': '1.46B',\n",
       "  'longFmt': '1,463,209,088'},\n",
       " 'targetMedianPrice': {'raw': 24, 'fmt': '24.00'},\n",
       " 'currentPrice': {'raw': 39.09, 'fmt': '39.09'},\n",
       " 'earningsGrowth': {'raw': 0.421, 'fmt': '42.10%'},\n",
       " 'currentRatio': {'raw': 2.925, 'fmt': '2.92'},\n",
       " 'returnOnAssets': {'raw': 0.118599996, 'fmt': '11.86%'},\n",
       " 'numberOfAnalystOpinions': {'raw': 11, 'fmt': '11', 'longFmt': '11'},\n",
       " 'targetMeanPrice': {'raw': 24.36, 'fmt': '24.36'},\n",
       " 'debtToEquity': {'raw': 98.369, 'fmt': '98.37'},\n",
       " 'returnOnEquity': {'raw': 0.4079, 'fmt': '40.79%'},\n",
       " 'targetHighPrice': {'raw': 26.5, 'fmt': '26.50'},\n",
       " 'totalCash': {'raw': 1021838976, 'fmt': '1.02B', 'longFmt': '1,021,838,976'},\n",
       " 'totalDebt': {'raw': 6490583040, 'fmt': '6.49B', 'longFmt': '6,490,583,040'},\n",
       " 'totalRevenue': {'raw': 3781337088,\n",
       "  'fmt': '3.78B',\n",
       "  'longFmt': '3,781,337,088'},\n",
       " 'totalCashPerShare': {'raw': 2.966, 'fmt': '2.97'},\n",
       " 'financialCurrency': 'BRL',\n",
       " 'maxAge': 86400,\n",
       " 'revenuePerShare': {'raw': 10.976, 'fmt': '10.98'},\n",
       " 'quickRatio': {'raw': 2.786, 'fmt': '2.79'},\n",
       " 'recommendationMean': {}}"
      ]
     },
     "execution_count": 20,
     "metadata": {},
     "output_type": "execute_result"
    }
   ],
   "source": [
    "json_data['context']['dispatcher']['stores']['QuoteSummaryStore']['financialData']"
   ]
  },
  {
   "cell_type": "code",
   "execution_count": 21,
   "metadata": {},
   "outputs": [
    {
     "name": "stdout",
     "output_type": "stream",
     "text": [
      "    exDividendDate earningsDate\n",
      "fmt     2021-05-19          NaN\n",
      "raw     1621382400          NaN\n"
     ]
    }
   ],
   "source": [
    "df = pd.DataFrame(json_data['context']['dispatcher']['stores']['QuoteSummaryStore']['calendarEvents'], columns= ['exDividendDate', 'earningsDate'])\n",
    "\n",
    "df.to_csv (r'C:\\Users\\PALETTA\\Documents\\Análise\\Web_Scraper_Yahoo_Finance\\stock.csv', index = False, header=True)\n",
    "\n",
    "print (df)"
   ]
  },
  {
   "cell_type": "markdown",
   "metadata": {},
   "source": [
    "# Historical Stock Data"
   ]
  },
  {
   "cell_type": "code",
   "execution_count": 22,
   "metadata": {},
   "outputs": [],
   "source": [
    "stock_url = 'https://query1.finance.yahoo.com/v7/finance/download/KO?period1=1590931955&period2=1622467955&interval=1d&events=history&includeAdjustedClose=true'"
   ]
  },
  {
   "cell_type": "code",
   "execution_count": 23,
   "metadata": {},
   "outputs": [],
   "source": [
    "response = requests.get(stock_url)"
   ]
  },
  {
   "cell_type": "code",
   "execution_count": null,
   "metadata": {},
   "outputs": [],
   "source": [
    "stock_url = 'https://query1.finance.yahoo.com/v7/finance/download/KO?'\n",
    "\n",
    "params = {\n",
    "    'period1':'1590931955',\n",
    "    'period2':'1622467955',\n",
    "    'interval':'1d',\n",
    "    'events':'history',\n",
    "    'includeAdjustedClose':'true'\n",
    "}"
   ]
  },
  {
   "cell_type": "code",
   "execution_count": null,
   "metadata": {},
   "outputs": [],
   "source": [
    "params = {\n",
    "    'range': '5y',\n",
    "    'interval':'1d',\n",
    "    'events':'history',\n",
    "    'includeAdjustedClose':'true'\n",
    "}"
   ]
  },
  {
   "cell_type": "code",
   "execution_count": null,
   "metadata": {},
   "outputs": [],
   "source": [
    "response = requests.get(stock_url.format(stock),params=params)"
   ]
  },
  {
   "cell_type": "code",
   "execution_count": null,
   "metadata": {
    "scrolled": false
   },
   "outputs": [],
   "source": [
    "file = StringIO(response.text)\n",
    "reader = csv.reader(file)\n",
    "data = list(reader)\n",
    "for row in data[:5]:\n",
    "    print(row)"
   ]
  },
  {
   "cell_type": "code",
   "execution_count": null,
   "metadata": {},
   "outputs": [],
   "source": [
    "def TT_preco(codigo, data, hora):\n",
    "    inicio = datetime.strftime(datetime.strptime(data+' '+hora, '%Y-%m-%d %H:%M')+timedelta(hours=3), '%Y-%m-%d %H:%M')\n",
    "    fim = datetime.strftime(datetime.strptime(data+' '+hora, '%Y-%m-%d %H:%M')+timedelta(hours=4), '%Y-%m-%d %H:%M')\n",
    "\n",
    "    data_inicial = datetime.strftime(datetime.strptime(data, '%Y-%m-%d') + timedelta(-1), '%Y-%m-%d')\n",
    "    data_final = datetime.strftime(datetime.strptime(data, '%Y-%m-%d') + timedelta(1), '%Y-%m-%d')\n",
    "\n",
    "    df = yf.download(codigo,\n",
    "                     start=data_inicial,\n",
    "                     end=data_final,\n",
    "                     progress=False,\n",
    "                     interval='1m')\n",
    "    df['DATA'] = df.index.values\n",
    "    df2 = df[(df['DATA'] >= datetime.strptime(inicio, '%Y-%m-%d %H:%M')) & (df['DATA'] <= datetime.strptime(fim, '%Y-%m-%d %H:%M'))]\n",
    "    \n",
    "    soma = 0\n",
    "    mult = 0\n",
    "\n",
    "    df2.to_csv('dadosTT.csv')\n",
    "\n",
    "    for i in range(0, len(df2['DATA'])):\n",
    "        mult += (df2['Open'][i] * df2['Volume'][i])\n",
    "        soma += df2['Volume'][i]\n",
    "\n",
    "    preco = mult / soma\n",
    "\n",
    "    print(codigo + ' - ' + str(preco.round(3)))\n",
    "    return(df2)"
   ]
  },
  {
   "cell_type": "code",
   "execution_count": null,
   "metadata": {},
   "outputs": [],
   "source": [
    "for codigo in ['PETR4.SA']:\n",
    "    data = '2021-05-28'\n",
    "    hora_inicial = '10:03'\n",
    "    tabela = TT_preco(codigo, data, hora_inicial)\n",
    "    tabela\n",
    "\n",
    "    plt.plot(tabela['DATA'],tabela['Open'])\n",
    "    plt.title(codigo)\n",
    "    plt.xlabel('HORÁRIO')\n",
    "    plt.ylabel('PREÇO')\n",
    "    plt.grid(True)\n",
    "    plt.show()"
   ]
  },
  {
   "cell_type": "code",
   "execution_count": null,
   "metadata": {},
   "outputs": [],
   "source": [
    "df2.to_csv (r'C:\\Users\\PALETTA\\Documents\\Análise\\Web_Scraper_Yahoo_Finance\\export_dataframe.csv', index = False, header=True)\n",
    "\n",
    "print (df2)"
   ]
  },
  {
   "cell_type": "code",
   "execution_count": 24,
   "metadata": {},
   "outputs": [
    {
     "ename": "KeyError",
     "evalue": "'assetProfile'",
     "output_type": "error",
     "traceback": [
      "\u001b[1;31m---------------------------------------------------------------------------\u001b[0m",
      "\u001b[1;31mKeyError\u001b[0m                                  Traceback (most recent call last)",
      "\u001b[1;32m<ipython-input-24-4a70ba00d684>\u001b[0m in \u001b[0;36m<module>\u001b[1;34m\u001b[0m\n\u001b[0;32m      1\u001b[0m \u001b[0mtranslator\u001b[0m \u001b[1;33m=\u001b[0m \u001b[0mgoogle_translator\u001b[0m\u001b[1;33m(\u001b[0m\u001b[1;33m)\u001b[0m\u001b[1;33m\u001b[0m\u001b[1;33m\u001b[0m\u001b[0m\n\u001b[1;32m----> 2\u001b[1;33m \u001b[0mtranslate_text\u001b[0m \u001b[1;33m=\u001b[0m \u001b[0mtranslator\u001b[0m\u001b[1;33m.\u001b[0m\u001b[0mtranslate\u001b[0m\u001b[1;33m(\u001b[0m\u001b[0mjson_data\u001b[0m\u001b[1;33m[\u001b[0m\u001b[1;34m'context'\u001b[0m\u001b[1;33m]\u001b[0m\u001b[1;33m[\u001b[0m\u001b[1;34m'dispatcher'\u001b[0m\u001b[1;33m]\u001b[0m\u001b[1;33m[\u001b[0m\u001b[1;34m'stores'\u001b[0m\u001b[1;33m]\u001b[0m\u001b[1;33m[\u001b[0m\u001b[1;34m'QuoteSummaryStore'\u001b[0m\u001b[1;33m]\u001b[0m\u001b[1;33m[\u001b[0m\u001b[1;34m'assetProfile'\u001b[0m\u001b[1;33m]\u001b[0m\u001b[1;33m[\u001b[0m\u001b[1;34m'longBusinessSummary'\u001b[0m\u001b[1;33m]\u001b[0m\u001b[1;33m,\u001b[0m\u001b[0mlang_tgt\u001b[0m\u001b[1;33m=\u001b[0m\u001b[1;34m'pt'\u001b[0m\u001b[1;33m)\u001b[0m\u001b[1;33m\u001b[0m\u001b[1;33m\u001b[0m\u001b[0m\n\u001b[0m\u001b[0;32m      3\u001b[0m \u001b[0mprint\u001b[0m\u001b[1;33m(\u001b[0m\u001b[0mtranslate_text\u001b[0m\u001b[1;33m)\u001b[0m\u001b[1;33m\u001b[0m\u001b[1;33m\u001b[0m\u001b[0m\n",
      "\u001b[1;31mKeyError\u001b[0m: 'assetProfile'"
     ]
    }
   ],
   "source": [
    "translator = google_translator()  \n",
    "translate_text = translator.translate(json_data['context']['dispatcher']['stores']['QuoteSummaryStore']['assetProfile']['longBusinessSummary'],lang_tgt='pt')  \n",
    "print(translate_text)"
   ]
  },
  {
   "cell_type": "code",
   "execution_count": null,
   "metadata": {},
   "outputs": [],
   "source": []
  },
  {
   "cell_type": "code",
   "execution_count": null,
   "metadata": {},
   "outputs": [],
   "source": []
  }
 ],
 "metadata": {
  "kernelspec": {
   "display_name": "Python 3",
   "language": "python",
   "name": "python3"
  },
  "language_info": {
   "codemirror_mode": {
    "name": "ipython",
    "version": 3
   },
   "file_extension": ".py",
   "mimetype": "text/x-python",
   "name": "python",
   "nbconvert_exporter": "python",
   "pygments_lexer": "ipython3",
   "version": "3.8.5"
  }
 },
 "nbformat": 4,
 "nbformat_minor": 4
}
